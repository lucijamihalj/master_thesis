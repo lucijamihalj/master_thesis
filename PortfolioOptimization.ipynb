{
 "cells": [
  {
   "cell_type": "code",
   "execution_count": 1,
   "metadata": {},
   "outputs": [],
   "source": [
    "import pandas as pd\n",
    "a = pd.Series([1, 2, 3])\n",
    "B = pd.DataFrame([[1,2,3],[4,5,6], [7,8,9]])"
   ]
  },
  {
   "cell_type": "code",
   "execution_count": 2,
   "metadata": {},
   "outputs": [
    {
     "data": {
      "text/plain": [
       "228"
      ]
     },
     "execution_count": 2,
     "metadata": {},
     "output_type": "execute_result"
    }
   ],
   "source": [
    "B.dot(a).dot(a)\n"
   ]
  },
  {
   "cell_type": "code",
   "execution_count": 15,
   "metadata": {},
   "outputs": [],
   "source": [
    "from gurobipy import *\n",
    "from math import sqrt\n",
    "import pandas as pd\n",
    "import numpy as np\n",
    "size = 10\n",
    "sigma=np.genfromtxt(\"orl200-005-b.mat\", skip_header=1, dtype='int')\n",
    "sigma=sigma[0:size,0:size]\n",
    "mu=pd.read_csv(\"orl200-005-b.txt\",sep=\" \", index_col=False, skiprows=1,names=['mu_i', 'ignore'])\n",
    "rho = np.genfromtxt(\"orl200-005-b.rho\")\n",
    "rho = rho.item()\n",
    "mu=mu.iloc[0:size,0]\n",
    "granice = pd.read_csv(\"orl200-005-b.bds\", sep=\" \", index_col=False,names=['l_i', 'u_i'])\n",
    "granice=granice.transpose()\n",
    "\n",
    "u_i=granice.iloc[1,0:size]\n",
    "\n",
    "m = Model('portfolio')\n",
    "vars_ = pd.Series(m.addVars(size))  #C_0, ..., C_199\n",
    "y = pd.Series(m.addVars(size, vtype=GRB.BINARY))\n",
    "vars_.start=np.zeros(size)\n",
    "y.start=np.ones(size)\n",
    "portfolio_risk = vars_.dot(sigma).dot(vars_)\n",
    "m.setObjective(portfolio_risk, GRB.MINIMIZE)\n",
    "m.addConstr(vars_.sum() <= 1, 'budget')\n",
    "mu=np.asarray(mu)\n",
    "m.addConstrs((0 <= vars_[i] for i in range(size)), 'nonnegative')\n",
    "m.addConstrs((vars_[i] <= u_i[i]*y[i] for i in range(size)), 'u_i')\n",
    "m.addConstr(y.sum() <= 5, 'cardinality')\n",
    "portfolio_return = mu.dot(vars_)  #mu^T*x >= ro\n",
    "m.addConstr(rho <= mu.dot(vars_), 'portf_return')\n",
    "m.addConstrs((y[i] <=1 for i in range(size)), 'interval')\n",
    "m.addConstrs((0 <= y[i] for i in range(size)), 'interval2')\n",
    "\n",
    "m.update()\n"
   ]
  },
  {
   "cell_type": "code",
   "execution_count": 16,
   "metadata": {},
   "outputs": [
    {
     "name": "stdout",
     "output_type": "stream",
     "text": [
      "Changed value of parameter TimeLimit to 7200.0\n",
      "   Prev: 1e+100  Min: 0.0  Max: 1e+100  Default: 1e+100\n",
      "Optimize a model with 43 rows, 20 columns and 80 nonzeros\n",
      "Model has 55 quadratic objective terms\n",
      "Variable types: 10 continuous, 10 integer (10 binary)\n",
      "Coefficient statistics:\n",
      "  Matrix range     [3e-03, 1e+00]\n",
      "  Objective range  [0e+00, 0e+00]\n",
      "  QObjective range [4e+00, 2e+03]\n",
      "  Bounds range     [1e+00, 1e+00]\n",
      "  RHS range        [5e-03, 5e+00]\n",
      "Presolve removed 30 rows and 0 columns\n",
      "Presolve time: 0.00s\n",
      "Presolved: 13 rows, 20 columns, 50 nonzeros\n",
      "Presolved model has 55 quadratic objective terms\n",
      "Variable types: 10 continuous, 10 integer (10 binary)\n",
      "Found heuristic solution: objective 122.5674819\n",
      "Found heuristic solution: objective 108.6244049\n",
      "\n",
      "Root relaxation: objective 5.895190e+01, 31 iterations, 0.00 seconds\n",
      "\n",
      "    Nodes    |    Current Node    |     Objective Bounds      |     Work\n",
      " Expl Unexpl |  Obj  Depth IntInf | Incumbent    BestBd   Gap | It/Node Time\n",
      "\n",
      "     0     0   58.95190    0   10  108.62440   58.95190  45.7%     -    0s\n",
      "H    0     0                      81.6138548   58.95190  27.8%     -    0s\n",
      "     0     0   58.95190    0   10   81.61385   58.95190  27.8%     -    0s\n",
      "     0     0   58.95190    0   10   81.61385   58.95190  27.8%     -    0s\n",
      "H    0     0                      71.3025113   58.95190  17.3%     -    0s\n",
      "     0     2   58.95190    0    8   71.30251   58.95190  17.3%     -    0s\n",
      "\n",
      "Cutting planes:\n",
      "  Cover: 1\n",
      "\n",
      "Explored 15 nodes (82 simplex iterations) in 0.14 seconds\n",
      "Thread count was 4 (of 4 available processors)\n",
      "\n",
      "Solution count 4: 71.3025 81.6139 108.624 122.567 \n",
      "\n",
      "Optimal solution found (tolerance 1.00e-04)\n",
      "Best objective 7.130251129773e+01, best bound 7.130251129773e+01, gap 0.0000%\n"
     ]
    }
   ],
   "source": [
    "m.setParam('TimeLimit', 7200)\n",
    "m.optimize()"
   ]
  },
  {
   "cell_type": "code",
   "execution_count": 5,
   "metadata": {},
   "outputs": [
    {
     "name": "stdout",
     "output_type": "stream",
     "text": [
      "\tC0\t: 0.0964341\n",
      "\tC4\t: 0.102496\n",
      "\tC5\t: 0.11615\n",
      "\tC6\t: 0.153309\n",
      "\tC8\t: 0.11514\n"
     ]
    }
   ],
   "source": [
    "for v in vars_:\n",
    "    if v.x > 0:\n",
    "        print('\\t%s\\t: %g' % (v.varname, v.x))"
   ]
  },
  {
   "cell_type": "code",
   "execution_count": 6,
   "metadata": {},
   "outputs": [
    {
     "data": {
      "text/plain": [
       "0.5835296919902674"
      ]
     },
     "execution_count": 6,
     "metadata": {},
     "output_type": "execute_result"
    }
   ],
   "source": [
    "suma=0\n",
    "for v in vars_:\n",
    "    suma=suma+v.x\n",
    "suma"
   ]
  },
  {
   "cell_type": "code",
   "execution_count": 7,
   "metadata": {},
   "outputs": [],
   "source": [
    "a = []"
   ]
  },
  {
   "cell_type": "code",
   "execution_count": 8,
   "metadata": {},
   "outputs": [],
   "source": [
    "for v in vars_:\n",
    "    a = np.append(a,v.x)"
   ]
  },
  {
   "cell_type": "code",
   "execution_count": 9,
   "metadata": {},
   "outputs": [
    {
     "data": {
      "text/plain": [
       "array([0.09643413, 0.        , 0.        , 0.        , 0.10249573,\n",
       "       0.11615034, 0.15330929, 0.        , 0.1151402 , 0.        ])"
      ]
     },
     "execution_count": 9,
     "metadata": {},
     "output_type": "execute_result"
    }
   ],
   "source": [
    "a"
   ]
  },
  {
   "cell_type": "code",
   "execution_count": 10,
   "metadata": {},
   "outputs": [
    {
     "data": {
      "text/plain": [
       "72.05262063931988"
      ]
     },
     "execution_count": 10,
     "metadata": {},
     "output_type": "execute_result"
    }
   ],
   "source": [
    "sigma.dot(a).dot(a)"
   ]
  },
  {
   "cell_type": "code",
   "execution_count": null,
   "metadata": {},
   "outputs": [],
   "source": []
  }
 ],
 "metadata": {
  "kernelspec": {
   "display_name": "Python 3",
   "language": "python",
   "name": "python3"
  },
  "language_info": {
   "codemirror_mode": {
    "name": "ipython",
    "version": 3
   },
   "file_extension": ".py",
   "mimetype": "text/x-python",
   "name": "python",
   "nbconvert_exporter": "python",
   "pygments_lexer": "ipython3",
   "version": "3.6.4"
  }
 },
 "nbformat": 4,
 "nbformat_minor": 2
}
