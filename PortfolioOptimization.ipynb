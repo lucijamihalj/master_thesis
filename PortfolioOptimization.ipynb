{
 "cells": [
  {
   "cell_type": "code",
   "execution_count": 15,
   "metadata": {},
   "outputs": [],
   "source": [
    "from gurobipy import *\n",
    "from math import sqrt\n",
    "import pandas as pd\n",
    "import numpy as np\n",
    "size  =  20    #manja velicina za provjeru\n",
    "sigma = np.genfromtxt(\"orl200-005-b.mat\", skip_header = 1, dtype = 'int')\n",
    "sigma = sigma[0:size,0:size]\n",
    "mu = pd.read_csv(\"orl200-005-b.txt\",sep = \" \", index_col = False, skiprows = 1,names = ['mu_i', 'ignore'])\n",
    "rho = np.genfromtxt(\"orl200-005-b.rho\")\n",
    "rho = rho.item()\n",
    "mu = mu.iloc[0:size,0]\n",
    "bounds = pd.read_csv(\"orl200-005-b.bds\", sep = \" \", index_col = False,names = ['l_i', 'u_i'])\n",
    "bounds = bounds.transpose()\n",
    "u_i = bounds.iloc[1,0:size]\n",
    "m = Model('portfolio')\n",
    "vars_ =  pd.Series(m.addVars(size))  #C_0, ..., C_199\n",
    "y = pd.Series(m.addVars(size, vtype = GRB.BINARY))\n",
    "vars_.start = np.zeros(size)\n",
    "y.start = np.ones(size)\n",
    "portfolio_risk = vars_.dot(sigma).dot(vars_)\n",
    "m.setObjective(portfolio_risk, GRB.MINIMIZE)\n",
    "m.addConstr(vars_.sum() <=  1, 'budget')\n",
    "mu = np.asarray(mu)\n",
    "m.addConstrs((0 <= vars_[i] for i in range(size)), 'nonnegative')\n",
    "m.addConstrs((vars_[i] <= u_i[i]*y[i] for i in range(size)), 'u_i')\n",
    "m.addConstr(y.sum() <= 5, 'cardinality')\n",
    "portfolio_return= mu.dot(vars_)  #mu^T*x > =  ro\n",
    "m.addConstr(rho <= mu.dot(vars_), 'portf_return')\n",
    "m.addConstrs((y[i] <= 1 for i in range(size)), 'interval')\n",
    "m.addConstrs((0 <= y[i] for i in range(size)), 'interval2')\n",
    "m.update()\n"
   ]
  },
  {
   "cell_type": "code",
   "execution_count": 16,
   "metadata": {},
   "outputs": [
    {
     "name": "stdout",
     "output_type": "stream",
     "text": [
      "Changed value of parameter TimeLimit to 7200.0\n",
      "   Prev: 1e+100  Min: 0.0  Max: 1e+100  Default: 1e+100\n",
      "Optimize a model with 83 rows, 40 columns and 160 nonzeros\n",
      "Model has 210 quadratic objective terms\n",
      "Variable types: 20 continuous, 20 integer (20 binary)\n",
      "Coefficient statistics:\n",
      "  Matrix range     [2e-03, 1e+00]\n",
      "  Objective range  [0e+00, 0e+00]\n",
      "  QObjective range [4e+00, 2e+03]\n",
      "  Bounds range     [1e+00, 1e+00]\n",
      "  RHS range        [5e-03, 5e+00]\n",
      "Presolve removed 60 rows and 0 columns\n",
      "Presolve time: 0.00s\n",
      "Presolved: 23 rows, 40 columns, 100 nonzeros\n",
      "Presolved model has 210 quadratic objective terms\n",
      "Variable types: 20 continuous, 20 integer (20 binary)\n",
      "Found heuristic solution: objective 112.4709817\n",
      "Found heuristic solution: objective 108.6244049\n",
      "\n",
      "Root relaxation: objective 3.222243e+01, 62 iterations, 0.00 seconds\n",
      "\n",
      "    Nodes    |    Current Node    |     Objective Bounds      |     Work\n",
      " Expl Unexpl |  Obj  Depth IntInf | Incumbent    BestBd   Gap | It/Node Time\n",
      "\n",
      "     0     0   32.22243    0   20  108.62440   32.22243  70.3%     -    0s\n",
      "H    0     0                      99.6630041   32.22243  67.7%     -    0s\n",
      "H    0     0                      83.6848344   32.22243  61.5%     -    0s\n",
      "     0     0   32.22243    0   20   83.68483   32.22243  61.5%     -    0s\n",
      "     0     0   32.22243    0   20   83.68483   32.22243  61.5%     -    0s\n",
      "     0     0   32.22243    0   20   83.68483   32.22243  61.5%     -    0s\n",
      "H    0     0                      80.6219655   32.22243  60.0%     -    0s\n",
      "H    0     0                      70.8270036   32.22243  54.5%     -    0s\n",
      "H    0     0                      61.6177230   32.22243  47.7%     -    0s\n",
      "     0     2   32.22243    0   20   61.61772   32.22243  47.7%     -    0s\n",
      "\n",
      "Cutting planes:\n",
      "  MIR: 2\n",
      "\n",
      "Explored 995 nodes (3531 simplex iterations) in 0.40 seconds\n",
      "Thread count was 4 (of 4 available processors)\n",
      "\n",
      "Solution count 7: 61.6177 70.827 80.622 ... 112.471\n",
      "\n",
      "Optimal solution found (tolerance 1.00e-04)\n",
      "Best objective 6.161772301184e+01, best bound 6.161772301184e+01, gap 0.0000%\n"
     ]
    }
   ],
   "source": [
    "m.setParam('TimeLimit', 7200)\n",
    "m.optimize()"
   ]
  },
  {
   "cell_type": "code",
   "execution_count": 12,
   "metadata": {},
   "outputs": [
    {
     "name": "stdout",
     "output_type": "stream",
     "text": [
      "\tC0\t: 0.100453\n",
      "\tC3\t: 0.115461\n",
      "\tC4\t: 0.144964\n",
      "\tC6\t: 0.132069\n",
      "\tC8\t: 0.132671\n"
     ]
    }
   ],
   "source": [
    "for v in vars_:\n",
    "    if v.x > 0:\n",
    "        print('\\t%s\\t: %g' % (v.varname, v.x))"
   ]
  },
  {
   "cell_type": "code",
   "execution_count": null,
   "metadata": {},
   "outputs": [],
   "source": []
  }
 ],
 "metadata": {
  "kernelspec": {
   "display_name": "Python 3",
   "language": "python",
   "name": "python3"
  },
  "language_info": {
   "codemirror_mode": {
    "name": "ipython",
    "version": 3
   },
   "file_extension": ".py",
   "mimetype": "text/x-python",
   "name": "python",
   "nbconvert_exporter": "python",
   "pygments_lexer": "ipython3",
   "version": "3.6.4"
  }
 },
 "nbformat": 4,
 "nbformat_minor": 2
}
