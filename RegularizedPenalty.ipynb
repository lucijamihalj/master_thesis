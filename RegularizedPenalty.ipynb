{
 "cells": [
  {
   "cell_type": "code",
   "execution_count": 127,
   "metadata": {},
   "outputs": [],
   "source": [
    "import math\n",
    "from scipy.optimize import minimize"
   ]
  },
  {
   "cell_type": "code",
   "execution_count": 128,
   "metadata": {},
   "outputs": [],
   "source": [
    "import numpy as np\n",
    "import pandas as pd\n",
    "from scipy.optimize import minimize\n",
    "size = 10  #how many rows from the original data?\n",
    "card = 5   #cardinality\n",
    "sigma = np.genfromtxt(\"orl200-005-a.mat\", skip_header=1, dtype='int')\n",
    "sigma = sigma[0:size,0:size]\n",
    "mu = pd.read_csv(\"orl200-005-a.txt\",sep=\" \", index_col=False, skiprows=1,names=['mu_i', 'ignore'])\n",
    "rho = np.genfromtxt(\"orl200-005-a.rho\")\n",
    "rho = rho.item()\n",
    "mu = mu.iloc[0:size,0]\n",
    "mu = np.asarray(mu)\n",
    "granice = pd.read_csv(\"orl200-005-a.bds\", sep=\" \", index_col=False,names=['l_i', 'u_i'])\n",
    "granice = granice.transpose()\n",
    "u_i = granice.iloc[1,0:size]\n",
    "u_i = np.asarray(u_i)"
   ]
  },
  {
   "cell_type": "markdown",
   "metadata": {},
   "source": [
    "$u_1,\\ldots,u_8$ are Lagrangian multipliers \n",
    "\n",
    "$u_4,\\ldots,u_9$ are arrays of size $size$"
   ]
  },
  {
   "cell_type": "markdown",
   "metadata": {},
   "source": [
    "$\\mathbf x = (x_1,\\ldots,x_n,y_1,\\ldots,y_n)$ "
   ]
  },
  {
   "cell_type": "code",
   "execution_count": 129,
   "metadata": {},
   "outputs": [],
   "source": [
    "def objective(x):\n",
    "    obj = x[0:size].dot(sigma).dot(x[0:size])-(1.0/(k*4))*np.square(u1)-(1.0/(k*4))*np.square(u2)-\\\n",
    "    (1.0/(k*4))*np.square(u3)-(1.0/(k*4))*np.square(u4).sum()-(1.0/(k*4))*np.square(u5).sum()\\\n",
    "    -(1.0/(k*4))*np.square(u6).sum()-(1.0/(k*4))*np.square(u7).sum()-(1.0/(k*4))*np.square(u8).sum()-\\\n",
    "    (1.0/(k*4))*np.square(u9).sum()\n",
    "    obj += (1.0*k)*max(0, x[0:size].sum() - 1 + (u1/k)/2)**2\n",
    "    obj += (1.0*k)*max(0, rho-mu.dot(x[0:size])+(u2/k)/2)**2\n",
    "    obj += (1.0*k)*max(0, size-card-x[size:size*2].sum()+(u3/k)/2)**2\n",
    "    #constraints for xs\n",
    "    for i in range(size):\n",
    "        obj += (1.0*k)*max(0, x[i]-u_i[i]+(u4[i]/k)/2)**2\n",
    "        obj += (1.0*k)*max(0, -x[i]+(u5[i]/k)/2)**2\n",
    "        obj += (1.0*k)*max(0, -x[i+size]+(u6[i]/k)/2)**2  #y\n",
    "        obj += (1.0*k)*max(0, x[i+size]-1+(u7[i]/k)/2)**2\n",
    "        if(x[i]+x[i+size]>=2*t):\n",
    "            obj += (1.0*k)*max(0, (x[i]-t)*(x[i+size]-t)+(u8[i]/k)/2)**2\n",
    "        else:\n",
    "            obj += (1.0*k)*max(0, -1/2*((x[i]-t)**2+(x[i+size]-t)**2)+(u8[i]/k)/2)**2\n",
    "        if(-x[i]+x[i+size]>=2*t):\n",
    "            obj += (1.0*k)*max(0, (-x[i]-t)*(x[i+size]-t)+(u9[i]/k)/2)**2\n",
    "        else:\n",
    "            obj += (1.0*k)*max(0, -1/2*((-x[i]-t)**2+(x[i+size]-t)**2)+(u9[i]/k)/2)**2\n",
    "    return obj"
   ]
  },
  {
   "cell_type": "code",
   "execution_count": 130,
   "metadata": {},
   "outputs": [],
   "source": [
    "def phi(a, b, t):\n",
    "    if(a+b>=2*t):\n",
    "        result = (a-t)*(b-t)\n",
    "    else:\n",
    "        result = -1/2*((a-t)**2+(b-t)**2)\n",
    "    return result\n",
    "\n",
    "def phi_(a, b, t):\n",
    "    if(-a+b >= 2*t):\n",
    "        result = (-a-t)*(b-t)\n",
    "    else:\n",
    "        result = -1/2*((-a-t)**2+(b-t)**2)\n",
    "    return result"
   ]
  },
  {
   "cell_type": "code",
   "execution_count": 131,
   "metadata": {},
   "outputs": [
    {
     "name": "stdout",
     "output_type": "stream",
     "text": [
      "1 -> 3.912326193259069e-12\n",
      "2 -> 0.6318007006163723\n",
      "3 -> 0.5606174841911202\n",
      "4 -> 0.46732476841001086\n",
      "5 -> 0.35053102554764015\n",
      "6 -> 0.2154991859310379\n",
      "7 -> 0.08258618208062182\n",
      "8 -> 0.002105252313391609\n",
      "9 -> 1.1717370395784237e-09\n",
      "10 -> 2.3094054966636592e-09\n",
      "11 -> 4.5976943057841045e-09\n",
      "12 -> 9.218810844602016e-09\n",
      "13 -> 1.858107148129073e-08\n",
      "14 -> 3.758968382901756e-08\n",
      "15 -> 7.6241196382289e-08\n",
      "16 -> 1.549179022831105e-07\n",
      "17 -> 3.161168703762089e-07\n",
      "18 -> 6.440161894059224e-07\n",
      "19 -> 1.3078737208344104e-06\n",
      "20 -> 2.6660102590103885e-06\n",
      "21 -> 5.435865689638351e-06\n",
      "22 -> 1.1085000320934614e-05\n",
      "23 -> 2.2605783269129906e-05\n",
      "24 -> 4.6097687800205024e-05\n",
      "25 -> 9.398754717347883e-05\n",
      "26 -> 0.00018216581063877304\n",
      "27 -> 0.00034530866656992497\n",
      "28 -> 0.0006283560471424674\n",
      "29 -> 0.0012046186659657144\n",
      "30 -> 0.0024078784789224998\n",
      "31 -> 0.004864509790477422\n",
      "32 -> 0.009843691123150181\n",
      "33 -> 0.019892790441680238\n",
      "34 -> 0.04003861690387736\n",
      "35 -> 0.0801406994762709\n",
      "36 -> 0.1591374291224184\n",
      "37 -> 0.31251103957648385\n",
      "38 -> 0.6044793388167825\n",
      "39 -> 1.145355676349456\n",
      "40 -> 2.1118403924134856\n",
      "41 -> 3.759530533551864\n",
      "42 -> 6.406856756570307\n",
      "43 -> 10.365365067681282\n",
      "44 -> 15.81266093618558\n",
      "45 -> 22.656963364504865\n",
      "46 -> 30.485574790928865\n",
      "47 -> 38.658583735846236\n",
      "48 -> 46.50649109565016\n",
      "49 -> 53.51402952664758\n",
      "50 -> 59.406309441812354\n",
      "51 -> 64.12972196166636\n",
      "52 -> 67.77948968988156\n",
      "53 -> 70.52295972238885\n",
      "54 -> 72.54370060978164\n",
      "55 -> 74.01047040423933\n",
      "56 -> 75.0636258678312\n",
      "57 -> 75.814329610844\n",
      "58 -> 76.34657495413077\n",
      "59 -> 76.72247970403116\n",
      "60 -> 76.7854777575165\n",
      "61 -> 76.9095574423889\n",
      "62 -> 77.30415689610504\n",
      "63 -> 77.35557247450302\n",
      "64 -> 77.46017486425315\n",
      "65 -> 77.50519436462311\n",
      "66 -> 77.53680271233303\n",
      "CPU times: user 30.9 s, sys: 275 ms, total: 31.2 s\n",
      "Wall time: 31.1 s\n"
     ]
    }
   ],
   "source": [
    "%%time\n",
    "t = 1\n",
    "k = 1/t   #penalty parameter\n",
    "u1 = 0\n",
    "u2 = 0\n",
    "u3 = 0\n",
    "u4 = np.zeros(size)\n",
    "u5 = np.zeros(size)\n",
    "u6 = np.zeros(size)\n",
    "u7 = np.zeros(size)\n",
    "u8 = np.zeros(size)\n",
    "u9 = np.zeros(size)\n",
    "viol = math.inf     #at the beggining violence is infinity\n",
    "x0 = np.append(np.zeros(size), np.ones(size))  #starting point\n",
    "old_viol = viol\n",
    "eps = 10**-7 #tolerance level\n",
    "cond = 1\n",
    "step = 0.7\n",
    "it = 0\n",
    "while ((eps <= viol) & (10**-10 <= t)):\n",
    "    it += 1\n",
    "    #inner loop\n",
    "    x = minimize(objective, x0).x\n",
    "    violence = np.zeros(3+5*size)\n",
    "    violence[0] = max(0,x[0:size].sum()-1)\n",
    "    violence[1] = max(0,size-card-x[size:size*2].sum())\n",
    "    violence[2] = max(0,rho-mu.dot(x[0:size]))\n",
    "    for i in range(size):\n",
    "        violence[i+3] = max(0,phi(x[i],x[i+size],t))\n",
    "        violence[(i+3)+size] = max(0, -x[i+size])\n",
    "        violence[(i+3)+2*size] = max(0, x[i+size]-1)\n",
    "        violence[(i+3)+3*size] = max(0, -x[i])\n",
    "        violence[(i+3)+4*size] = max(0, x[i]-u_i[i])\n",
    "    viol = max(violence) \n",
    "    if (viol <= (1.0/4)*old_viol):\n",
    "        u1 = u1 + max(-u1, (2*k)*(x.sum()-1))\n",
    "        u2 = u2 + max(-u2, (2*k)*(rho-mu.dot(x[0:size])))\n",
    "        u3 = u3 + max(-u3, (2*k)*(size-card-x[size:size*2].sum()))\n",
    "        for i in range(size):\n",
    "            u4[i] = u4[i] + max(-u4[i], (2*k)*(x[i]-u_i[i]))\n",
    "            u5[i] = u5[i] + max(-u5[i], (2*k)*(-x[i]))\n",
    "            u6[i] = u6[i] + max(-u6[i], (2*k)*(-x[i+size]))\n",
    "            u7[i] = u7[i] + max(-u7[i], (2*k)*(x[i+size]-1))\n",
    "            u8[i] = u8[i] + max(-u8[i], (2*k)*phi(x[i], x[i+size], t))\n",
    "            u9[i] = u9[i] + max(-u9[i], (2*k)*phi_(x[i], x[i+size], t))\n",
    "    if (viol > (1.0/4)*old_viol):\n",
    "        t = t*step\n",
    "        k = (k*(1/step))\n",
    "    print('{} -> {}'.format(it, x[0:size].dot(sigma).dot(x[0:size])))\n",
    "    x0 = x\n",
    "    old_viol = viol"
   ]
  },
  {
   "cell_type": "code",
   "execution_count": 110,
   "metadata": {},
   "outputs": [
    {
     "data": {
      "text/plain": [
       "71.99746776293883"
      ]
     },
     "execution_count": 110,
     "metadata": {},
     "output_type": "execute_result"
    }
   ],
   "source": [
    "x[0:size].dot(sigma).dot(x[0:size])"
   ]
  },
  {
   "cell_type": "code",
   "execution_count": 104,
   "metadata": {},
   "outputs": [
    {
     "data": {
      "text/plain": [
       "0.9858517138167737"
      ]
     },
     "execution_count": 104,
     "metadata": {},
     "output_type": "execute_result"
    }
   ],
   "source": [
    "x[0:size].sum()"
   ]
  },
  {
   "cell_type": "code",
   "execution_count": 124,
   "metadata": {},
   "outputs": [
    {
     "data": {
      "text/plain": [
       "1.3682054097031524"
      ]
     },
     "execution_count": 124,
     "metadata": {},
     "output_type": "execute_result"
    }
   ],
   "source": [
    "viol"
   ]
  },
  {
   "cell_type": "code",
   "execution_count": 125,
   "metadata": {},
   "outputs": [
    {
     "data": {
      "text/plain": [
       "1.0000000000000002e-12"
      ]
     },
     "execution_count": 125,
     "metadata": {},
     "output_type": "execute_result"
    }
   ],
   "source": [
    "t"
   ]
  },
  {
   "cell_type": "code",
   "execution_count": null,
   "metadata": {},
   "outputs": [],
   "source": [
    "t"
   ]
  },
  {
   "cell_type": "code",
   "execution_count": null,
   "metadata": {},
   "outputs": [],
   "source": []
  }
 ],
 "metadata": {
  "kernelspec": {
   "display_name": "Python 3",
   "language": "python",
   "name": "python3"
  },
  "language_info": {
   "codemirror_mode": {
    "name": "ipython",
    "version": 3
   },
   "file_extension": ".py",
   "mimetype": "text/x-python",
   "name": "python",
   "nbconvert_exporter": "python",
   "pygments_lexer": "ipython3",
   "version": "3.6.4"
  }
 },
 "nbformat": 4,
 "nbformat_minor": 2
}
