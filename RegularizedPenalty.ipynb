{
 "cells": [
  {
   "cell_type": "code",
   "execution_count": 2,
   "metadata": {},
   "outputs": [],
   "source": [
    "import math\n",
    "from scipy.optimize import minimize"
   ]
  },
  {
   "cell_type": "code",
   "execution_count": 3,
   "metadata": {},
   "outputs": [],
   "source": [
    "import numpy as np\n",
    "import pandas as pd\n",
    "from scipy.optimize import minimize\n",
    "size = 10  #how many rows from the original data?\n",
    "card = 5   #cardinality\n",
    "sigma = np.genfromtxt(\"orl200-005-a.mat\", skip_header=1, dtype='int')\n",
    "sigma = sigma[0:size,0:size]\n",
    "mu = pd.read_csv(\"orl200-005-a.txt\",sep=\" \", index_col=False, skiprows=1,names=['mu_i', 'ignore'])\n",
    "rho = np.genfromtxt(\"orl200-005-a.rho\")\n",
    "rho = rho.item()\n",
    "mu = mu.iloc[0:size,0]\n",
    "mu = np.asarray(mu)\n",
    "granice = pd.read_csv(\"orl200-005-a.bds\", sep=\" \", index_col=False,names=['l_i', 'u_i'])\n",
    "granice = granice.transpose()\n",
    "u_i = granice.iloc[1,0:size]\n",
    "u_i = np.asarray(u_i)"
   ]
  },
  {
   "cell_type": "markdown",
   "metadata": {},
   "source": [
    "$u_1,\\ldots,u_8$ are Lagrangian multipliers \n",
    "\n",
    "$u_4,\\ldots,u_9$ are arrays of size $size$"
   ]
  },
  {
   "cell_type": "markdown",
   "metadata": {},
   "source": [
    "$\\mathbf x = (x_1,\\ldots,x_n,y_1,\\ldots,y_n)$ "
   ]
  },
  {
   "cell_type": "code",
   "execution_count": 72,
   "metadata": {},
   "outputs": [
    {
     "data": {
      "text/plain": [
       "0.25"
      ]
     },
     "execution_count": 72,
     "metadata": {},
     "output_type": "execute_result"
    }
   ],
   "source": [
    "2/8"
   ]
  },
  {
   "cell_type": "code",
   "execution_count": 80,
   "metadata": {},
   "outputs": [],
   "source": [
    "def objective(x):\n",
    "    obj = x[0:size].dot(sigma).dot(x[0:size])-(1.0/(k*4))*np.square(u1)-(1.0/(k*4))*np.square(u2)-\\\n",
    "    (1.0/(k*4))*np.square(u3)-(1.0/(k*4))*np.square(u4).sum()-(1.0/(k*4))*np.square(u5).sum()\\\n",
    "    -(1.0/(k*4))*np.square(u6).sum()-(1.0/(k*4))*np.square(u7).sum()-(1.0/(k*4))*np.square(u8).sum()-\\\n",
    "    (1.0/(k*4))*np.square(u9).sum()\n",
    "    obj += (1.0*k)*max(0, x[0:size].sum() - 1 + (u1/k)/2)**2\n",
    "    obj += (1.0*k)*max(0, rho-mu.dot(x[0:size])+(u2/k)/2)**2\n",
    "    obj += (1.0*k)*max(0, size-card-x[size:size*2].sum()+(u3/k)/2)**2\n",
    "    #constraints for xs\n",
    "    for i in range(size):\n",
    "        obj += (1.0*k)*max(0, x[i]-u_i[i]+(u4[i]/k)/2)**2\n",
    "        obj += (1.0*k)*max(0, -x[i]+(u5[i]/k)/2)**2\n",
    "        obj += (1.0*k)*max(0, -x[i+size]+(u6[i]/k)/2)**2  #y\n",
    "        obj += (1.0*k)*max(0, x[i+size]-1+(u7[i]/k)/2)**2\n",
    "        if(x[i]+x[i+size]>=2*t):\n",
    "            obj += (1.0*k)*max(0, (x[i]-t)*(x[i+size]-t)+(u8[i]/k)/2)**2\n",
    "        else:\n",
    "            obj += (1.0*k)*max(0, -1/2*((x[i]-t)**2+(x[i+size]-t)**2)+(u8[i]/k)/2)**2\n",
    "        if(-x[i]+x[i+size]>=2*t):\n",
    "            obj += (1.0*k)*max(0, (-x[i]-t)*(x[i+size]-t)+(u9[i]/k)/2)**2\n",
    "        else:\n",
    "            obj += (1.0*k)*max(0, -1/2*((-x[i]-t)**2+(x[i+size]-t)**2)+(u9[i]/k)/2)**2\n",
    "    return obj"
   ]
  },
  {
   "cell_type": "code",
   "execution_count": 81,
   "metadata": {},
   "outputs": [],
   "source": [
    "def phi(a, b, t):\n",
    "    if(a+b>=2*t):\n",
    "        result = (a-t)*(b-t)\n",
    "    else:\n",
    "        result = -1/2*((a-t)**2+(b-t)**2)\n",
    "    return result\n",
    "\n",
    "def phi_(a, b, t):\n",
    "    if(-a+b >= 2*t):\n",
    "        result = (-a-t)*(b-t)\n",
    "    else:\n",
    "        result = -1/2*((-a-t)**2+(b-t)**2)\n",
    "    return result"
   ]
  },
  {
   "cell_type": "code",
   "execution_count": null,
   "metadata": {},
   "outputs": [
    {
     "name": "stdout",
     "output_type": "stream",
     "text": [
      "1 -> 3.912326193247455e-12\n",
      "2 -> 0.6318008102434908\n",
      "3 -> 0.6128710482710693\n",
      "4 -> 0.5922306272900774\n",
      "5 -> 0.5697733388870941\n",
      "6 -> 0.5454083663818551\n",
      "7 -> 0.519051347320264\n",
      "8 -> 0.4906404586295475\n",
      "9 -> 0.4601418146767629\n",
      "10 -> 0.42755549713751817\n",
      "11 -> 0.39293270857843776\n",
      "12 -> 0.35638795484252683\n",
      "13 -> 0.31811777652938306\n",
      "14 -> 0.2784224718246383\n",
      "15 -> 0.23773187879470684\n",
      "16 -> 0.19663618858835197\n",
      "17 -> 0.15592184938953507\n",
      "18 -> 0.11661305193118966\n",
      "19 -> 0.08001954577575673\n",
      "20 -> 0.047790304745493624\n",
      "21 -> 0.02197346377682528\n",
      "22 -> 0.005081624038415126\n",
      "23 -> 6.763570668838901e-10\n",
      "24 -> 8.383470734719205e-10\n",
      "25 -> 1.0210016726056713e-09\n",
      "26 -> 1.2449239685265713e-09\n",
      "27 -> 1.5197474777646221e-09\n",
      "28 -> 1.857146720436452e-09\n",
      "29 -> 2.2713199461679625e-09\n",
      "30 -> 2.7813175435131373e-09\n",
      "31 -> 3.4077202274872746e-09\n",
      "32 -> 4.178657619344687e-09\n",
      "33 -> 5.127064231915895e-09\n",
      "34 -> 6.294699487570421e-09\n",
      "35 -> 7.732410259626282e-09\n",
      "36 -> 9.503329272625604e-09\n",
      "37 -> 1.1684731039868903e-08\n",
      "38 -> 1.4372567959060334e-08\n",
      "39 -> 1.7685256569517043e-08\n",
      "40 -> 2.1768468141428658e-08\n",
      "41 -> 2.6802562396792926e-08\n",
      "42 -> 3.300928278720223e-08\n",
      "43 -> 4.066322448059457e-08\n",
      "44 -> 5.010219510471884e-08\n",
      "45 -> 6.174466690665215e-08\n",
      "46 -> 7.610602099418608e-08\n",
      "47 -> 9.382232147308905e-08\n",
      "48 -> 1.1567893406479512e-07\n",
      "49 -> 1.4264559689957438e-07\n",
      "50 -> 1.7591872176123647e-07\n",
      "51 -> 2.169757566997958e-07\n",
      "52 -> 2.6763967415412947e-07\n",
      "53 -> 3.301609908780132e-07\n",
      "54 -> 4.0731824745184604e-07\n",
      "55 -> 5.025400582151344e-07\n",
      "56 -> 6.200597822702443e-07\n",
      "57 -> 7.651027431171917e-07\n",
      "58 -> 9.458611553520377e-07\n",
      "59 -> 1.1664004756782905e-06\n",
      "60 -> 1.4392137493931841e-06\n",
      "61 -> 1.7759323844751674e-06\n",
      "62 -> 2.1894720420460057e-06\n",
      "63 -> 2.7026923421837773e-06\n",
      "64 -> 3.3356912282766202e-06\n",
      "65 -> 4.1170215711797905e-06\n",
      "66 -> 5.081445338373457e-06\n",
      "67 -> 6.271869594479908e-06\n",
      "68 -> 7.741251257857872e-06\n",
      "69 -> 9.554952247814674e-06\n",
      "70 -> 1.1793646476912839e-05\n",
      "71 -> 1.4556899269659615e-05\n",
      "72 -> 1.7967585338642925e-05\n",
      "73 -> 2.2177348698503667e-05\n",
      "74 -> 2.7373323436163208e-05\n",
      "75 -> 3.3786434504619775e-05\n",
      "76 -> 4.170162702969558e-05\n",
      "77 -> 5.1470489607434104e-05\n",
      "78 -> 6.352681085531262e-05\n",
      "79 -> 7.840575432106791e-05\n",
      "80 -> 9.676752123852617e-05\n",
      "81 -> 0.00011942646932543066\n",
      "82 -> 0.0001473870366566936\n",
      "83 -> 0.00017622747736507422\n",
      "84 -> 0.000223877038458289\n",
      "85 -> 0.00024631626260117627\n",
      "86 -> 0.00032434902870124476\n",
      "87 -> 0.0003782184137619992\n",
      "88 -> 0.0004409928468991211\n",
      "89 -> 0.0005203527365552412\n",
      "90 -> 0.0006143189298615739\n",
      "91 -> 0.0007417483564111623\n",
      "92 -> 0.000895256993728064\n",
      "93 -> 0.0011924774289523976\n",
      "94 -> 0.0014605107106797992\n",
      "95 -> 0.0017902244342902455\n",
      "96 -> 0.0021991637384553885\n",
      "97 -> 0.002704962565393419\n",
      "98 -> 0.0033289169120600125\n",
      "99 -> 0.0040975501904786885\n",
      "100 -> 0.005047091396514088\n",
      "101 -> 0.006215358652450285\n",
      "102 -> 0.007654245327586343\n",
      "103 -> 0.009425283322751197\n",
      "104 -> 0.011604236013996733\n",
      "105 -> 0.014283847596901812\n",
      "106 -> 0.017577525040842708\n",
      "107 -> 0.021624054065739293\n"
     ]
    }
   ],
   "source": [
    "%%time\n",
    "t = 1\n",
    "k = 1/t   #penalty parameter\n",
    "u1 = 0\n",
    "u2 = 0\n",
    "u3 = 0\n",
    "u4 = np.zeros(size)\n",
    "u5 = np.zeros(size)\n",
    "u6 = np.zeros(size)\n",
    "u7 = np.zeros(size)\n",
    "u8 = np.zeros(size)\n",
    "u9 = np.zeros(size)\n",
    "viol = math.inf     #at the beggining violence is infinity\n",
    "x0 = np.append(np.zeros(size), np.ones(size))  #starting point\n",
    "old_viol = viol\n",
    "eps = 10**-7 #tolerance level\n",
    "cond = 1\n",
    "step = 0.9\n",
    "it = 0\n",
    "while ((eps <= viol) & (10**-10 <= t)):\n",
    "    it += 1\n",
    "    #inner loop\n",
    "    x = minimize(objective, x0).x\n",
    "    violence = np.zeros(3+5*size)\n",
    "    violence[0] = max(0,x[0:size].sum()-1)\n",
    "    violence[1] = max(0,size-card-x[size:size*2].sum())\n",
    "    violence[2] = max(0,rho-mu.dot(x[0:size]))\n",
    "    for i in range(size):\n",
    "        violence[i+3] = max(0,phi(x[i],x[i+size],t))\n",
    "        violence[(i+3)+size] = max(0, -x[i+size])\n",
    "        violence[(i+3)+2*size] = max(0, x[i+size]-1)\n",
    "        violence[(i+3)+3*size] = max(0, -x[i])\n",
    "        violence[(i+3)+4*size] = max(0, x[i]-u_i[i])\n",
    "    viol = max(violence) \n",
    "    if (viol <= (1.0/4)*old_viol):\n",
    "        u1 = u1 + max(-u1, (2*k)*(x.sum()-1))\n",
    "        u2 = u2 + max(-u2, (2*k)*(rho-mu.dot(x[0:size])))\n",
    "        u3 = u3 + max(-u3, (2*k)*(size-card-x[size:size*2].sum()))\n",
    "        for i in range(size):\n",
    "            u4[i] = u4[i] + max(-u4[i], (2*k)*(x[i]-u_i[i]))\n",
    "            u5[i] = u5[i] + max(-u5[i], (2*k)*(-x[i]))\n",
    "            u6[i] = u6[i] + max(-u6[i], (2*k)*(-x[i+size]))\n",
    "            u7[i] = u7[i] + max(-u7[i], (2*k)*(x[i+size]-1))\n",
    "            u8[i] = u8[i] + max(-u8[i], (2*k)*phi(x[i], x[i+size], t))\n",
    "            u9[i] = u9[i] + max(-u9[i], (2*k)*phi_(x[i], x[i+size], t))\n",
    "    if (viol > (1.0/4)*old_viol):\n",
    "        t = t*step\n",
    "        k = (k*(1/step))\n",
    "    print('{} -> {}'.format(it, x[0:size].dot(sigma).dot(x[0:size])))\n",
    "    x0 = x\n",
    "    old_viol = viol"
   ]
  },
  {
   "cell_type": "code",
   "execution_count": 110,
   "metadata": {},
   "outputs": [
    {
     "data": {
      "text/plain": [
       "71.99746776293883"
      ]
     },
     "execution_count": 110,
     "metadata": {},
     "output_type": "execute_result"
    }
   ],
   "source": [
    "x[0:size].dot(sigma).dot(x[0:size])"
   ]
  },
  {
   "cell_type": "code",
   "execution_count": 104,
   "metadata": {},
   "outputs": [
    {
     "data": {
      "text/plain": [
       "0.9858517138167737"
      ]
     },
     "execution_count": 104,
     "metadata": {},
     "output_type": "execute_result"
    }
   ],
   "source": [
    "x[0:size].sum()"
   ]
  },
  {
   "cell_type": "code",
   "execution_count": 105,
   "metadata": {},
   "outputs": [
    {
     "data": {
      "text/plain": [
       "1.9835864622452957e-08"
      ]
     },
     "execution_count": 105,
     "metadata": {},
     "output_type": "execute_result"
    }
   ],
   "source": [
    "viol"
   ]
  },
  {
   "cell_type": "code",
   "execution_count": null,
   "metadata": {},
   "outputs": [],
   "source": [
    "objective(x)"
   ]
  },
  {
   "cell_type": "code",
   "execution_count": null,
   "metadata": {},
   "outputs": [],
   "source": [
    "t"
   ]
  },
  {
   "cell_type": "code",
   "execution_count": null,
   "metadata": {},
   "outputs": [],
   "source": []
  }
 ],
 "metadata": {
  "kernelspec": {
   "display_name": "Python 3",
   "language": "python",
   "name": "python3"
  },
  "language_info": {
   "codemirror_mode": {
    "name": "ipython",
    "version": 3
   },
   "file_extension": ".py",
   "mimetype": "text/x-python",
   "name": "python",
   "nbconvert_exporter": "python",
   "pygments_lexer": "ipython3",
   "version": "3.6.4"
  }
 },
 "nbformat": 4,
 "nbformat_minor": 2
}
