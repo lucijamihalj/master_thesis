{
 "cells": [
  {
   "cell_type": "code",
   "execution_count": 16,
   "metadata": {},
   "outputs": [],
   "source": [
    "import math\n",
    "import numpy as np\n",
    "import pandas as pd\n",
    "from scipy.optimize import minimize"
   ]
  },
  {
   "cell_type": "code",
   "execution_count": 21,
   "metadata": {},
   "outputs": [],
   "source": [
    "size = 20  #how many rows from the original data?\n",
    "card = 5   #cardinality\n",
    "sigma = np.genfromtxt(\"orl200-005-a.mat\", skip_header=1, dtype='int')\n",
    "sigma = sigma[0:size,0:size]\n",
    "mu = pd.read_csv(\"orl200-005-a.txt\",sep=\" \", index_col=False, skiprows=1,names=['mu_i', 'ignore'])\n",
    "rho = np.genfromtxt(\"orl200-005-a.rho\")\n",
    "rho = rho.item()\n",
    "mu = mu.iloc[0:size,0]\n",
    "mu = np.asarray(mu)\n",
    "granice = pd.read_csv(\"orl200-005-a.bds\", sep=\" \", index_col=False,names=['l_i', 'u_i'])\n",
    "granice = granice.transpose()\n",
    "u_i = granice.iloc[1,0:size]\n",
    "u_i = np.asarray(u_i)"
   ]
  },
  {
   "cell_type": "markdown",
   "metadata": {},
   "source": [
    "$u_1,\\ldots,u_8$ are Lagrangian multipliers \n",
    "\n",
    "$u_4,\\ldots,u_9$ are arrays of size $size$"
   ]
  },
  {
   "cell_type": "markdown",
   "metadata": {},
   "source": [
    "$\\mathbf x = (x_1,\\ldots,x_n,y_1,\\ldots,y_n)$ "
   ]
  },
  {
   "cell_type": "code",
   "execution_count": 22,
   "metadata": {},
   "outputs": [],
   "source": [
    "def objective(x):\n",
    "    obj = x[0:size].dot(sigma).dot(x[0:size])-(1.0/(k*4))*np.square(u1)-(1.0/(k*4))*np.square(u2)-\\\n",
    "    (1.0/(k*4))*np.square(u3)-(1.0/(k*4))*np.square(u4).sum()-(1.0/(k*4))*np.square(u5).sum()\\\n",
    "    -(1.0/(k*4))*np.square(u6).sum()-(1.0/(k*4))*np.square(u7).sum()-(1.0/(k*4))*np.square(u8).sum()-\\\n",
    "    (1.0/(k*4))*np.square(u9).sum()\n",
    "    obj += (1.0*k)*max(0, x[0:size].sum() - 1 + (u1/k)/2)**2\n",
    "    obj += (1.0*k)*max(0, rho-mu.dot(x[0:size])+(u2/k)/2)**2\n",
    "    obj += (1.0*k)*max(0, size-card-x[size:size*2].sum()+(u3/k)/2)**2\n",
    "    #constraints for xs\n",
    "    for i in range(size):\n",
    "        obj += (1.0*k)*max(0, x[i]-u_i[i]+(u4[i]/k)/2)**2\n",
    "        obj += (1.0*k)*max(0, -x[i]+(u5[i]/k)/2)**2\n",
    "        obj += (1.0*k)*max(0, -x[i+size]+(u6[i]/k)/2)**2  #y\n",
    "        obj += (1.0*k)*max(0, x[i+size]-1+(u7[i]/k)/2)**2\n",
    "        if(x[i]+x[i+size] >= 2*t):\n",
    "            obj += (1.0*k)*max(0, (x[i]-t)*(x[i+size]-t)+(u8[i]/k)/2)**2\n",
    "        else:\n",
    "            obj += (1.0*k)*max(0, -1/2*((x[i]-t)**2+(x[i+size]-t)**2)+(u8[i]/k)/2)**2\n",
    "        if(-x[i]+x[i+size] >= 2*t):\n",
    "            obj += (1.0*k)*max(0, (-x[i]-t)*(x[i+size]-t)+(u9[i]/k)/2)**2\n",
    "        else:\n",
    "            obj += (1.0*k)*max(0, -1/2*((-x[i]-t)**2+(x[i+size]-t)**2)+(u9[i]/k)/2)**2\n",
    "    return obj"
   ]
  },
  {
   "cell_type": "code",
   "execution_count": 23,
   "metadata": {},
   "outputs": [],
   "source": [
    "def phi(a, b, t):\n",
    "    if(a+b >= 2*t):\n",
    "        result = (a-t)*(b-t)\n",
    "    else:\n",
    "        result = -1/2*((a-t)**2+(b-t)**2)\n",
    "    return result\n",
    "\n",
    "def phi_(a, b, t):\n",
    "    if(-a+b >= 2*t):\n",
    "        result = (-a-t)*(b-t)\n",
    "    else:\n",
    "        result = -1/2*((-a-t)**2+(b-t)**2)\n",
    "    return result"
   ]
  },
  {
   "cell_type": "code",
   "execution_count": 24,
   "metadata": {},
   "outputs": [
    {
     "name": "stdout",
     "output_type": "stream",
     "text": [
      "1 -> 8.691815128908097e-12\n",
      "2 -> 5.897591237500956\n",
      "3 -> 5.527204436753685\n",
      "4 -> 5.0287972801358425\n",
      "5 -> 4.375760070872797\n",
      "6 -> 3.5532315468718463\n",
      "7 -> 2.577608993097479\n",
      "8 -> 1.526892648944171\n",
      "9 -> 0.577336553356392\n",
      "10 -> 0.028578314471736734\n",
      "11 -> 9.442566787006533e-09\n",
      "12 -> 1.8944280703380478e-08\n",
      "13 -> 3.8170104460044317e-08\n",
      "14 -> 7.719882612889952e-08\n",
      "15 -> 1.5654682242181065e-07\n",
      "16 -> 3.180422891036524e-07\n",
      "17 -> 6.484000165385844e-07\n",
      "18 -> 1.3191531095839357e-06\n",
      "19 -> 2.6841685921106615e-06\n",
      "20 -> 5.4705835518162915e-06\n",
      "21 -> 1.1151835668628037e-05\n",
      "22 -> 2.2734505404941445e-05\n",
      "23 -> 4.634376670021144e-05\n",
      "24 -> 9.444956583894984e-05\n",
      "25 -> 0.00019241335540314195\n",
      "26 -> 0.0003700187770835654\n",
      "27 -> 0.0006717776351147563\n",
      "28 -> 0.0011513313823271118\n",
      "29 -> 0.0020998370354867986\n",
      "30 -> 0.004118004313842078\n",
      "31 -> 0.00825120110832338\n",
      "32 -> 0.016596400710976147\n",
      "33 -> 0.033291982379790135\n",
      "34 -> 0.06637501452568295\n",
      "35 -> 0.13111686670582398\n",
      "36 -> 0.2556603857632302\n",
      "37 -> 0.4897270651527181\n",
      "38 -> 0.9160168582641031\n",
      "39 -> 1.6608709316968746\n",
      "40 -> 2.8950033986215513\n",
      "41 -> 4.809714597853564\n",
      "42 -> 7.557870229456993\n",
      "43 -> 11.171377333296304\n",
      "44 -> 15.500120866879108\n",
      "45 -> 20.223815213346622\n",
      "46 -> 24.944391299153903\n",
      "47 -> 29.306213966010194\n",
      "48 -> 33.07793263228361\n",
      "49 -> 36.168763282187996\n",
      "50 -> 38.597551785586255\n",
      "51 -> 40.38736752249115\n",
      "52 -> 41.82053524017028\n",
      "53 -> 42.824453964545754\n",
      "54 -> 43.549165743651585\n",
      "55 -> 44.067334860834634\n",
      "56 -> 44.43557379350571\n",
      "57 -> 44.567167103217905\n",
      "58 -> 44.879850235683755\n",
      "59 -> 44.94585164490936\n",
      "60 -> 45.079910930580695\n",
      "61 -> 45.129795171024995\n",
      "62 -> 45.20754447669773\n",
      "63 -> 45.21865289307895\n",
      "64 -> 45.231247610551144\n",
      "65 -> 45.26487248665268\n",
      "66 -> 45.27352419773822\n",
      "CPU times: user 2min 41s, sys: 814 ms, total: 2min 41s\n",
      "Wall time: 2min 46s\n"
     ]
    }
   ],
   "source": [
    "%%time\n",
    "t = 1\n",
    "k = 1/t   #penalty parameter\n",
    "u1 = 0\n",
    "u2 = 0\n",
    "u3 = 0\n",
    "u4 = np.zeros(size)\n",
    "u5 = np.zeros(size)\n",
    "u6 = np.zeros(size)\n",
    "u7 = np.zeros(size)\n",
    "u8 = np.zeros(size)\n",
    "u9 = np.zeros(size)\n",
    "viol = math.inf     #at the beggining violence is infinity\n",
    "x0 = np.append(np.zeros(size), np.ones(size))  #starting point\n",
    "old_viol = viol\n",
    "eps = 10**-7 #tolerance level\n",
    "cond = 1\n",
    "step = 0.7\n",
    "it = 0\n",
    "while ((eps <= viol) & (10**-10 <= t)):\n",
    "    it += 1\n",
    "    #inner loop\n",
    "    x = minimize(objective, x0).x\n",
    "    violence = np.zeros(3+5*size)\n",
    "    violence[0] = max(0,x[0:size].sum()-1)\n",
    "    violence[1] = max(0,size-card-x[size:size*2].sum())\n",
    "    violence[2] = max(0,rho-mu.dot(x[0:size]))\n",
    "    for i in range(size):\n",
    "        violence[i+3] = max(0,phi(x[i],x[i+size],t))\n",
    "        violence[(i+3)+size] = max(0, -x[i+size])\n",
    "        violence[(i+3)+2*size] = max(0, x[i+size]-1)\n",
    "        violence[(i+3)+3*size] = max(0, -x[i])\n",
    "        violence[(i+3)+4*size] = max(0, x[i]-u_i[i])\n",
    "    viol = max(violence) \n",
    "    if (viol <= (1.0/4)*old_viol):\n",
    "        u1 = u1 + max(-u1, (2*k)*(x.sum()-1))\n",
    "        u2 = u2 + max(-u2, (2*k)*(rho-mu.dot(x[0:size])))\n",
    "        u3 = u3 + max(-u3, (2*k)*(size-card-x[size:size*2].sum()))\n",
    "        for i in range(size):\n",
    "            u4[i] = u4[i] + max(-u4[i], (2*k)*(x[i]-u_i[i]))\n",
    "            u5[i] = u5[i] + max(-u5[i], (2*k)*(-x[i]))\n",
    "            u6[i] = u6[i] + max(-u6[i], (2*k)*(-x[i+size]))\n",
    "            u7[i] = u7[i] + max(-u7[i], (2*k)*(x[i+size]-1))\n",
    "            u8[i] = u8[i] + max(-u8[i], (2*k)*phi(x[i], x[i+size], t))\n",
    "            u9[i] = u9[i] + max(-u9[i], (2*k)*phi_(x[i], x[i+size], t))\n",
    "    if (viol > (1.0/4)*old_viol):\n",
    "        t = t * step\n",
    "        k = (k * (1 / step))\n",
    "    print('{} -> {}'.format(it, x[0:size].dot(sigma).dot(x[0:size])))\n",
    "    x0 = x\n",
    "    old_viol = viol"
   ]
  },
  {
   "cell_type": "code",
   "execution_count": 25,
   "metadata": {},
   "outputs": [
    {
     "data": {
      "text/plain": [
       "45.27352419773822"
      ]
     },
     "execution_count": 25,
     "metadata": {},
     "output_type": "execute_result"
    }
   ],
   "source": [
    "x[0:size].dot(sigma).dot(x[0:size])"
   ]
  },
  {
   "cell_type": "code",
   "execution_count": 133,
   "metadata": {},
   "outputs": [
    {
     "data": {
      "text/plain": [
       "0.6036226134049"
      ]
     },
     "execution_count": 133,
     "metadata": {},
     "output_type": "execute_result"
    }
   ],
   "source": [
    "x[0:size].sum()"
   ]
  },
  {
   "cell_type": "code",
   "execution_count": 134,
   "metadata": {},
   "outputs": [
    {
     "data": {
      "text/plain": [
       "2.118430632276104e-06"
      ]
     },
     "execution_count": 134,
     "metadata": {},
     "output_type": "execute_result"
    }
   ],
   "source": [
    "viol"
   ]
  },
  {
   "cell_type": "code",
   "execution_count": 135,
   "metadata": {},
   "outputs": [
    {
     "data": {
      "text/plain": [
       "8.538323413450814e-11"
      ]
     },
     "execution_count": 135,
     "metadata": {},
     "output_type": "execute_result"
    }
   ],
   "source": [
    "t"
   ]
  }
 ],
 "metadata": {
  "kernelspec": {
   "display_name": "Python 3",
   "language": "python",
   "name": "python3"
  },
  "language_info": {
   "codemirror_mode": {
    "name": "ipython",
    "version": 3
   },
   "file_extension": ".py",
   "mimetype": "text/x-python",
   "name": "python",
   "nbconvert_exporter": "python",
   "pygments_lexer": "ipython3",
   "version": "3.6.4"
  }
 },
 "nbformat": 4,
 "nbformat_minor": 2
}
